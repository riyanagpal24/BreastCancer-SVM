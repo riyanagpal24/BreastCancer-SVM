{
  "nbformat": 4,
  "nbformat_minor": 0,
  "metadata": {
    "colab": {
      "name": "BC - SVM.ipynb",
      "version": "0.3.2",
      "provenance": [],
      "collapsed_sections": [],
      "include_colab_link": true
    },
    "kernelspec": {
      "name": "python3",
      "display_name": "Python 3"
    }
  },
  "cells": [
    {
      "cell_type": "markdown",
      "metadata": {
        "id": "view-in-github",
        "colab_type": "text"
      },
      "source": [
        "[View in Colaboratory](https://colab.research.google.com/github/riyanagpal24/BreastCancer-SVM/blob/master/BC_SVM.ipynb)"
      ]
    },
    {
      "metadata": {
        "id": "CbfgXWPfJ0bI",
        "colab_type": "code",
        "colab": {
          "base_uri": "https://localhost:8080/",
          "height": 52
        },
        "outputId": "3c3f2b1c-10b2-4319-c950-f16bd0ea85d7"
      },
      "cell_type": "code",
      "source": [
        "from sklearn.svm import SVC\n",
        "from sklearn.model_selection import train_test_split\n",
        "from sklearn.datasets import load_breast_cancer\n",
        "\n",
        "cancer = load_breast_cancer()\n",
        "x_train, x_test, y_train, y_test = train_test_split(cancer.data, cancer.target, random_state = 0) #random =0 for resuability\n",
        "\n",
        "svm = SVC()\n",
        "'''\n",
        "To optimize the (achieve higher) accuracy of the parameters, we regularize them.\n",
        "\n",
        "For regularisation following two parameters ar kept in check:\n",
        "'C' : it classifies the degree of classification for each data set.\n",
        "Gamma : controls the width of our guassian kernel\n",
        "'''\n",
        "svm.fit(x_train, y_train)\n",
        "print(\"Accuracy on the training subset {:.3f}\".format(svm.score(x_train, y_train))) # 100 : signifies we are over fitting the data\n",
        "print(\"Accuracy on the test subset {:.3f}\".format(svm.score(x_test, y_test))) # 62.9 "
      ],
      "execution_count": 1,
      "outputs": [
        {
          "output_type": "stream",
          "text": [
            "Accuracy on the training subset 1.000\n",
            "Accuracy on the test subset 0.629\n"
          ],
          "name": "stdout"
        }
      ]
    },
    {
      "metadata": {
        "id": "6v64xUICV3ay",
        "colab_type": "code",
        "colab": {
          "base_uri": "https://localhost:8080/",
          "height": 296
        },
        "outputId": "20570776-aced-4151-d0ae-9438ca27286a"
      },
      "cell_type": "code",
      "source": [
        "import matplotlib.pyplot as plt\n",
        "%matplotlib inline \n",
        "\n",
        "plt.plot(x_train.min(axis=0), 'o', label='Min')\n",
        "plt.plot(x_train.max(axis=0), 'v', label='Max')\n",
        "plt.xlabel('Feature Index')\n",
        "plt.ylabel('Feature Magnitude in Log Scale')\n",
        "plt.yscale('log')\n",
        "plt.legend(loc='upper right')\n",
        "\n",
        "'''\n",
        "large diff between the max and min value of each feature. A diff in order of mangnitude.\n",
        "'''"
      ],
      "execution_count": 2,
      "outputs": [
        {
          "output_type": "execute_result",
          "data": {
            "text/plain": [
              "'\\nlarge diff between the max and min value of each feature. A diff in order of mangnitude.\\n'"
            ]
          },
          "metadata": {
            "tags": []
          },
          "execution_count": 2
        },
        {
          "output_type": "display_data",
          "data": {
            "image/png": "[encoded data removed]",
            "text/plain": [
              "<matplotlib.figure.Figure at 0x7f1672489d30>"
            ]
          },
          "metadata": {
            "tags": []
          }
        }
      ]
    },
    {
      "metadata": {
        "id": "D2fT0Hru6jNf",
        "colab_type": "code",
        "colab": {
          "base_uri": "https://localhost:8080/",
          "height": 123
        },
        "outputId": "5fd4c884-6039-4250-8539-a47c73e18ea2"
      },
      "cell_type": "code",
      "source": [
        "#to bring the features to the same scale(eg. 0-1 range)\n",
        "#StandardScaler() or MinMaxScaler functions can be used.\n",
        "\n",
        "min_train = x_train.min(axis =0) # axis = 0 - y axis\n",
        "\n",
        "#min of each feature : subtract min from max\n",
        "range_train = (x_train - min_train).max(axis = 0) # for y-aixs (represented in log values)\n",
        "\n",
        "#to bring the data into the scale of 0 - 1\n",
        "x_train_scaled = (x_train - min_train)/range_train\n",
        "\n",
        "print('Minimum per feature\\n{}'.format(x_train_scaled.min(axis=0)))\n",
        "print('Maximum per feature\\n{}'.format(x_train_scaled.max(axis=0)))"
      ],
      "execution_count": 3,
      "outputs": [
        {
          "output_type": "stream",
          "text": [
            "Minimum per feature\n",
            "[0. 0. 0. 0. 0. 0. 0. 0. 0. 0. 0. 0. 0. 0. 0. 0. 0. 0. 0. 0. 0. 0. 0. 0.\n",
            " 0. 0. 0. 0. 0. 0.]\n",
            "Maximum per feature\n",
            "[1. 1. 1. 1. 1. 1. 1. 1. 1. 1. 1. 1. 1. 1. 1. 1. 1. 1. 1. 1. 1. 1. 1. 1.\n",
            " 1. 1. 1. 1. 1. 1.]\n"
          ],
          "name": "stdout"
        }
      ]
    },
    {
      "metadata": {
        "id": "2QkV_D_k-IYu",
        "colab_type": "code",
        "colab": {
          "base_uri": "https://localhost:8080/",
          "height": 87
        },
        "outputId": "70bb945d-779f-4e57-fa98-59ce493e0778"
      },
      "cell_type": "code",
      "source": [
        "x_test_scaled = (x_test - min_train)/range_train\n",
        "#classifier is used with default parameters\n",
        "svm = SVC()\n",
        "svm.fit(x_train_scaled, y_train) #y_train are the labels so no need to scale"
      ],
      "execution_count": 4,
      "outputs": [
        {
          "output_type": "execute_result",
          "data": {
            "text/plain": [
              "SVC(C=1.0, cache_size=200, class_weight=None, coef0=0.0,\n",
              "  decision_function_shape='ovr', degree=3, gamma='auto', kernel='rbf',\n",
              "  max_iter=-1, probability=False, random_state=None, shrinking=True,\n",
              "  tol=0.001, verbose=False)"
            ]
          },
          "metadata": {
            "tags": []
          },
          "execution_count": 4
        }
      ]
    },
    {
      "metadata": {
        "id": "8YaHYeSr_Aeq",
        "colab_type": "code",
        "colab": {
          "base_uri": "https://localhost:8080/",
          "height": 52
        },
        "outputId": "b3ff042c-67ad-450d-e43a-c6aadd1133b5"
      },
      "cell_type": "code",
      "source": [
        "print(\"Accuracy on the training subset {:.3f}\".format(svm.score(x_train_scaled, y_train))) #94.8 : underfitting of data\n",
        "print(\"Accuracy on the test subset {:.3f}\".format(svm.score(x_test_scaled, y_test))) # 95.1 "
      ],
      "execution_count": 5,
      "outputs": [
        {
          "output_type": "stream",
          "text": [
            "Accuracy on the training subset 0.948\n",
            "Accuracy on the test subset 0.951\n"
          ],
          "name": "stdout"
        }
      ]
    },
    {
      "metadata": {
        "id": "fBOXtjdoAiZw",
        "colab_type": "code",
        "colab": {
          "base_uri": "https://localhost:8080/",
          "height": 52
        },
        "outputId": "8957f79d-4762-4b27-df5b-ec162cdb7b6f"
      },
      "cell_type": "code",
      "source": [
        "#try to improve accuracy by adjusting hyper-parameter\n",
        "\n",
        "svm = SVC(C=1000) #C=1000 leads to a more complex and classified model\n",
        "svm.fit(x_train_scaled, y_train)\n",
        "\n",
        "print('The accuracy on the training subset: {:.3f}'.format(svm.score(x_train_scaled, y_train))) # 98.8 (no under or over fitting)\n",
        "print('The accuracy on the test subset: {:.3f}'.format(svm.score(x_test_scaled, y_test))) #97.2"
      ],
      "execution_count": 6,
      "outputs": [
        {
          "output_type": "stream",
          "text": [
            "The accuracy on the training subset: 0.988\n",
            "The accuracy on the test subset: 0.972\n"
          ],
          "name": "stdout"
        }
      ]
    },
    {
      "metadata": {
        "id": "LaoLFwgbAs7H",
        "colab_type": "code",
        "colab": {
          "base_uri": "https://localhost:8080/",
          "height": 247
        },
        "outputId": "11eb7417-4e06-4146-fd16-4089321bf1cb"
      },
      "cell_type": "code",
      "source": [
        "#Uncertainity estimation : by decision function\n",
        "#decision function determines on which side of the hyper-plane the feature lies.\n",
        "\n",
        "#probability of malignant or bening tumor for the first 20 samples\n",
        "print('The decision function is:\\n\\n{}\\n'.format(svm.decision_function(x_test_scaled)[:20]))\n",
        "\n",
        "#decision in boolean factor : tumor beningn or not\n",
        "print('Thresholded decision function:\\n\\n{}\\n'.format(svm.decision_function(x_test_scaled)[:20]>0))\n",
        "\n",
        "#classes differentiation 0: malignant(negative values)  1: benign(positive values) \n",
        "svm.classes_"
      ],
      "execution_count": 12,
      "outputs": [
        {
          "output_type": "stream",
          "text": [
            "The decision function is:\n",
            "\n",
            "[ -4.85978922   1.99579027   3.72514352   2.2759514    4.90872748\n",
            "   3.38738403   5.5791361    3.65809059   4.35247953   7.58641901\n",
            "   1.03844859   1.83665248   6.57010973   0.18802654   0.78505785\n",
            "  -3.91506363   3.36498378  -8.28312921  -7.22330097 -13.2443725 ]\n",
            "\n",
            "Thresholded decision function:\n",
            "\n",
            "[False  True  True  True  True  True  True  True  True  True  True  True\n",
            "  True  True  True False  True False False False]\n",
            "\n"
          ],
          "name": "stdout"
        },
        {
          "output_type": "execute_result",
          "data": {
            "text/plain": [
              "array([0, 1])"
            ]
          },
          "metadata": {
            "tags": []
          },
          "execution_count": 12
        }
      ]
    },
    {
      "metadata": {
        "id": "TVTBzVzJGHCz",
        "colab_type": "code",
        "colab": {
          "base_uri": "https://localhost:8080/",
          "height": 87
        },
        "outputId": "ef618bbf-6632-45ad-b09d-02bdeb4f335c"
      },
      "cell_type": "code",
      "source": [
        "#Uncertainity estimation : predicting probability\n",
        "svm\n"
      ],
      "execution_count": 13,
      "outputs": [
        {
          "output_type": "execute_result",
          "data": {
            "text/plain": [
              "SVC(C=1000, cache_size=200, class_weight=None, coef0=0.0,\n",
              "  decision_function_shape='ovr', degree=3, gamma='auto', kernel='rbf',\n",
              "  max_iter=-1, probability=False, random_state=None, shrinking=True,\n",
              "  tol=0.001, verbose=False)"
            ]
          },
          "metadata": {
            "tags": []
          },
          "execution_count": 13
        }
      ]
    },
    {
      "metadata": {
        "id": "kUFqNRBDGeXe",
        "colab_type": "code",
        "colab": {
          "base_uri": "https://localhost:8080/",
          "height": 567
        },
        "outputId": "0e6d8fbe-9c4d-4038-8737-935cbe2b5e89"
      },
      "cell_type": "code",
      "source": [
        "#predict_proba : uncertainity estimation\n",
        "svm = SVC(C=1000, probability=True)\n",
        "svm.fit(x_train_scaled, y_train)\n",
        "\n",
        "#calculated probability for both class[0,1]\n",
        "print('Predicted probabilities for the samples (malignant and benign):\\n\\n{}\\n\\n'.format(svm.predict_proba(x_test_scaled[:20])))\n",
        "\n",
        "# 0 malignant 1 benign\n",
        "svm.predict(x_test_scaled)"
      ],
      "execution_count": 18,
      "outputs": [
        {
          "output_type": "stream",
          "text": [
            "Predicted probabilities for the samples (malignant and benign):\n",
            "\n",
            "[[9.97598978e-01 2.40102209e-03]\n",
            " [6.23157464e-02 9.37684254e-01]\n",
            " [7.28355805e-03 9.92716442e-01]\n",
            " [4.44478227e-02 9.55552177e-01]\n",
            " [7.90746161e-06 9.99992093e-01]\n",
            " [1.11598539e-02 9.88840146e-01]\n",
            " [1.42935040e-06 9.99998571e-01]\n",
            " [7.92846950e-03 9.92071531e-01]\n",
            " [3.28630151e-03 9.96713698e-01]\n",
            " [8.54534970e-09 9.99999991e-01]\n",
            " [1.84018368e-01 8.15981632e-01]\n",
            " [7.52658205e-02 9.24734179e-01]\n",
            " [1.14126953e-07 9.99999886e-01]\n",
            " [3.99319996e-01 6.00680004e-01]\n",
            " [2.37591349e-01 7.62408651e-01]\n",
            " [9.91993742e-01 8.00625779e-03]\n",
            " [1.14794246e-02 9.88520575e-01]\n",
            " [9.99969474e-01 3.05264347e-05]\n",
            " [9.99882084e-01 1.17916316e-04]\n",
            " [9.99999900e-01 1.00000010e-07]]\n",
            "\n",
            "\n"
          ],
          "name": "stdout"
        },
        {
          "output_type": "execute_result",
          "data": {
            "text/plain": [
              "array([0, 1, 1, 1, 1, 1, 1, 1, 1, 1, 1, 1, 1, 1, 1, 0, 1, 0, 0, 0, 0, 0,\n",
              "       1, 1, 0, 1, 1, 0, 1, 0, 1, 0, 1, 0, 1, 0, 1, 0, 1, 0, 0, 1, 0, 1,\n",
              "       1, 0, 1, 1, 1, 0, 0, 0, 0, 1, 1, 1, 1, 1, 1, 0, 0, 0, 1, 1, 0, 1,\n",
              "       0, 0, 0, 1, 1, 0, 1, 0, 0, 1, 1, 1, 1, 1, 0, 0, 0, 1, 0, 1, 1, 1,\n",
              "       0, 0, 1, 0, 0, 0, 1, 1, 0, 1, 1, 1, 1, 1, 1, 1, 0, 1, 0, 1, 1, 0,\n",
              "       1, 0, 0, 1, 1, 1, 1, 1, 1, 1, 1, 1, 1, 1, 0, 1, 1, 1, 1, 1, 0, 1,\n",
              "       1, 1, 1, 1, 0, 0, 0, 1, 1, 1, 0])"
            ]
          },
          "metadata": {
            "tags": []
          },
          "execution_count": 18
        }
      ]
    },
    {
      "metadata": {
        "id": "91rDNxzrH_K8",
        "colab_type": "code",
        "colab": {}
      },
      "cell_type": "code",
      "source": [
        ""
      ],
      "execution_count": 0,
      "outputs": []
    }
  ]
}