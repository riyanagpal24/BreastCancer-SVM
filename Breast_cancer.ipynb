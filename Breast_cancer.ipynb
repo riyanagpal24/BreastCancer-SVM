{
  "nbformat": 4,
  "nbformat_minor": 0,
  "metadata": {
    "colab": {
      "name": "Breast-cancer.ipynb",
      "version": "0.3.2",
      "provenance": [],
      "collapsed_sections": [],
      "include_colab_link": true
    },
    "kernelspec": {
      "name": "python3",
      "display_name": "Python 3"
    }
  },
  "cells": [
    {
      "cell_type": "markdown",
      "metadata": {
        "id": "view-in-github",
        "colab_type": "text"
      },
      "source": [
        "<a href=\"https://colab.research.google.com/github/riyanagpal24/BreastCancer-SVM/blob/master/Breast_cancer.ipynb\" target=\"_parent\"><img src=\"https://colab.research.google.com/assets/colab-badge.svg\" alt=\"Open In Colab\"/></a>"
      ]
    },
    {
      "metadata": {
        "id": "VhMb6Ti791jE",
        "colab_type": "code",
        "colab": {}
      },
      "cell_type": "code",
      "source": [
        "import pandas as pd\n",
        "import numpy as np\n",
        "import matplotlib.pyplot as plt\n",
        "import seaborn as sns\n",
        "%matplotlib inline\n",
        "\n",
        "from sklearn.svm import SVC\n",
        "from sklearn.model_selection import train_test_split\n",
        "from sklearn import preprocessing\n",
        "\n",
        "\n",
        "import warnings\n",
        "warnings.filterwarnings('ignore')"
      ],
      "execution_count": 0,
      "outputs": []
    },
    {
      "metadata": {
        "id": "s9bQGY9l-RGc",
        "colab_type": "code",
        "colab": {}
      },
      "cell_type": "code",
      "source": [
        "data = pd.read_csv(\"breast-cancer.csv\")"
      ],
      "execution_count": 0,
      "outputs": []
    },
    {
      "metadata": {
        "id": "VC82Pdw4-UIi",
        "colab_type": "code",
        "outputId": "af1711a6-030a-49ef-c51c-f4ca06d41814",
        "colab": {
          "base_uri": "https://localhost:8080/",
          "height": 263
        }
      },
      "cell_type": "code",
      "source": [
        "data.head()"
      ],
      "execution_count": 0,
      "outputs": [
        {
          "output_type": "execute_result",
          "data": {
            "text/html": [
              "<div>\n",
              "<style scoped>\n",
              "    .dataframe tbody tr th:only-of-type {\n",
              "        vertical-align: middle;\n",
              "    }\n",
              "\n",
              "    .dataframe tbody tr th {\n",
              "        vertical-align: top;\n",
              "    }\n",
              "\n",
              "    .dataframe thead th {\n",
              "        text-align: right;\n",
              "    }\n",
              "</style>\n",
              "<table border=\"1\" class=\"dataframe\">\n",
              "  <thead>\n",
              "    <tr style=\"text-align: right;\">\n",
              "      <th></th>\n",
              "      <th>id</th>\n",
              "      <th>diagnosis</th>\n",
              "      <th>radius_mean</th>\n",
              "      <th>texture_mean</th>\n",
              "      <th>perimeter_mean</th>\n",
              "      <th>area_mean</th>\n",
              "      <th>smoothness_mean</th>\n",
              "      <th>compactness_mean</th>\n",
              "      <th>concavity_mean</th>\n",
              "      <th>concave points_mean</th>\n",
              "      <th>...</th>\n",
              "      <th>radius_worst</th>\n",
              "      <th>texture_worst</th>\n",
              "      <th>perimeter_worst</th>\n",
              "      <th>area_worst</th>\n",
              "      <th>smoothness_worst</th>\n",
              "      <th>compactness_worst</th>\n",
              "      <th>concavity_worst</th>\n",
              "      <th>concave points_worst</th>\n",
              "      <th>symmetry_worst</th>\n",
              "      <th>fractal_dimension_worst</th>\n",
              "    </tr>\n",
              "  </thead>\n",
              "  <tbody>\n",
              "    <tr>\n",
              "      <th>0</th>\n",
              "      <td>842302</td>\n",
              "      <td>M</td>\n",
              "      <td>17.99</td>\n",
              "      <td>10.38</td>\n",
              "      <td>122.80</td>\n",
              "      <td>1001.0</td>\n",
              "      <td>0.11840</td>\n",
              "      <td>0.27760</td>\n",
              "      <td>0.3001</td>\n",
              "      <td>0.14710</td>\n",
              "      <td>...</td>\n",
              "      <td>25.38</td>\n",
              "      <td>17.33</td>\n",
              "      <td>184.60</td>\n",
              "      <td>2019.0</td>\n",
              "      <td>0.1622</td>\n",
              "      <td>0.6656</td>\n",
              "      <td>0.7119</td>\n",
              "      <td>0.2654</td>\n",
              "      <td>0.4601</td>\n",
              "      <td>0.11890</td>\n",
              "    </tr>\n",
              "    <tr>\n",
              "      <th>1</th>\n",
              "      <td>842517</td>\n",
              "      <td>M</td>\n",
              "      <td>20.57</td>\n",
              "      <td>17.77</td>\n",
              "      <td>132.90</td>\n",
              "      <td>1326.0</td>\n",
              "      <td>0.08474</td>\n",
              "      <td>0.07864</td>\n",
              "      <td>0.0869</td>\n",
              "      <td>0.07017</td>\n",
              "      <td>...</td>\n",
              "      <td>24.99</td>\n",
              "      <td>23.41</td>\n",
              "      <td>158.80</td>\n",
              "      <td>1956.0</td>\n",
              "      <td>0.1238</td>\n",
              "      <td>0.1866</td>\n",
              "      <td>0.2416</td>\n",
              "      <td>0.1860</td>\n",
              "      <td>0.2750</td>\n",
              "      <td>0.08902</td>\n",
              "    </tr>\n",
              "    <tr>\n",
              "      <th>2</th>\n",
              "      <td>84300903</td>\n",
              "      <td>M</td>\n",
              "      <td>19.69</td>\n",
              "      <td>21.25</td>\n",
              "      <td>130.00</td>\n",
              "      <td>1203.0</td>\n",
              "      <td>0.10960</td>\n",
              "      <td>0.15990</td>\n",
              "      <td>0.1974</td>\n",
              "      <td>0.12790</td>\n",
              "      <td>...</td>\n",
              "      <td>23.57</td>\n",
              "      <td>25.53</td>\n",
              "      <td>152.50</td>\n",
              "      <td>1709.0</td>\n",
              "      <td>0.1444</td>\n",
              "      <td>0.4245</td>\n",
              "      <td>0.4504</td>\n",
              "      <td>0.2430</td>\n",
              "      <td>0.3613</td>\n",
              "      <td>0.08758</td>\n",
              "    </tr>\n",
              "    <tr>\n",
              "      <th>3</th>\n",
              "      <td>84348301</td>\n",
              "      <td>M</td>\n",
              "      <td>11.42</td>\n",
              "      <td>20.38</td>\n",
              "      <td>77.58</td>\n",
              "      <td>386.1</td>\n",
              "      <td>0.14250</td>\n",
              "      <td>0.28390</td>\n",
              "      <td>0.2414</td>\n",
              "      <td>0.10520</td>\n",
              "      <td>...</td>\n",
              "      <td>14.91</td>\n",
              "      <td>26.50</td>\n",
              "      <td>98.87</td>\n",
              "      <td>567.7</td>\n",
              "      <td>0.2098</td>\n",
              "      <td>0.8663</td>\n",
              "      <td>0.6869</td>\n",
              "      <td>0.2575</td>\n",
              "      <td>0.6638</td>\n",
              "      <td>0.17300</td>\n",
              "    </tr>\n",
              "    <tr>\n",
              "      <th>4</th>\n",
              "      <td>84358402</td>\n",
              "      <td>M</td>\n",
              "      <td>20.29</td>\n",
              "      <td>14.34</td>\n",
              "      <td>135.10</td>\n",
              "      <td>1297.0</td>\n",
              "      <td>0.10030</td>\n",
              "      <td>0.13280</td>\n",
              "      <td>0.1980</td>\n",
              "      <td>0.10430</td>\n",
              "      <td>...</td>\n",
              "      <td>22.54</td>\n",
              "      <td>16.67</td>\n",
              "      <td>152.20</td>\n",
              "      <td>1575.0</td>\n",
              "      <td>0.1374</td>\n",
              "      <td>0.2050</td>\n",
              "      <td>0.4000</td>\n",
              "      <td>0.1625</td>\n",
              "      <td>0.2364</td>\n",
              "      <td>0.07678</td>\n",
              "    </tr>\n",
              "  </tbody>\n",
              "</table>\n",
              "<p>5 rows × 32 columns</p>\n",
              "</div>"
            ],
            "text/plain": [
              "         id diagnosis  radius_mean  texture_mean  perimeter_mean  area_mean  \\\n",
              "0    842302         M        17.99         10.38          122.80     1001.0   \n",
              "1    842517         M        20.57         17.77          132.90     1326.0   \n",
              "2  84300903         M        19.69         21.25          130.00     1203.0   \n",
              "3  84348301         M        11.42         20.38           77.58      386.1   \n",
              "4  84358402         M        20.29         14.34          135.10     1297.0   \n",
              "\n",
              "   smoothness_mean  compactness_mean  concavity_mean  concave points_mean  \\\n",
              "0          0.11840           0.27760          0.3001              0.14710   \n",
              "1          0.08474           0.07864          0.0869              0.07017   \n",
              "2          0.10960           0.15990          0.1974              0.12790   \n",
              "3          0.14250           0.28390          0.2414              0.10520   \n",
              "4          0.10030           0.13280          0.1980              0.10430   \n",
              "\n",
              "            ...             radius_worst  texture_worst  perimeter_worst  \\\n",
              "0           ...                    25.38          17.33           184.60   \n",
              "1           ...                    24.99          23.41           158.80   \n",
              "2           ...                    23.57          25.53           152.50   \n",
              "3           ...                    14.91          26.50            98.87   \n",
              "4           ...                    22.54          16.67           152.20   \n",
              "\n",
              "   area_worst  smoothness_worst  compactness_worst  concavity_worst  \\\n",
              "0      2019.0            0.1622             0.6656           0.7119   \n",
              "1      1956.0            0.1238             0.1866           0.2416   \n",
              "2      1709.0            0.1444             0.4245           0.4504   \n",
              "3       567.7            0.2098             0.8663           0.6869   \n",
              "4      1575.0            0.1374             0.2050           0.4000   \n",
              "\n",
              "   concave points_worst  symmetry_worst  fractal_dimension_worst  \n",
              "0                0.2654          0.4601                  0.11890  \n",
              "1                0.1860          0.2750                  0.08902  \n",
              "2                0.2430          0.3613                  0.08758  \n",
              "3                0.2575          0.6638                  0.17300  \n",
              "4                0.1625          0.2364                  0.07678  \n",
              "\n",
              "[5 rows x 32 columns]"
            ]
          },
          "metadata": {
            "tags": []
          },
          "execution_count": 4
        }
      ]
    },
    {
      "metadata": {
        "id": "t5IeHRwXCE4_",
        "colab_type": "code",
        "outputId": "42f54fea-3c70-457f-a50e-afd25a8ec784",
        "colab": {
          "base_uri": "https://localhost:8080/",
          "height": 642
        }
      },
      "cell_type": "code",
      "source": [
        "#Attribute corelation\n",
        "\n",
        "# red suggests that attributes are correlated with each other. \n",
        "# yellow and green suggest some moderate correlation\n",
        "# blue shows negative correlations.\n",
        "from matplotlib import cm as cm\n",
        "\n",
        "features_mean= list(data.columns[2:12])\n",
        "plt.figure(figsize=(10,10))\n",
        "sns.heatmap(data[features_mean].corr(), annot=True, square=True, cmap='coolwarm')\n",
        "plt.show()\n"
      ],
      "execution_count": 0,
      "outputs": [
        {
          "output_type": "display_data",
          "data": {
            "image/png": "[encoded data removed]",
            "text/plain": [
              "<matplotlib.figure.Figure at 0x7fdac377b630>"
            ]
          },
          "metadata": {
            "tags": []
          }
        }
      ]
    },
    {
      "metadata": {
        "id": "gk-cKxVdzJep",
        "colab_type": "text"
      },
      "cell_type": "markdown",
      "source": [
        "Obervation:\n",
        "Factors like radius_mean, perimeter_mean, area_mean, concavity_mean, concave points_mean, area_worst, perimeter_worst show high co-relation and can be used for predicting cancer classes."
      ]
    },
    {
      "metadata": {
        "id": "JerD05u8-n94",
        "colab_type": "code",
        "outputId": "be590673-1024-4377-8a09-5ea775590931",
        "colab": {
          "base_uri": "https://localhost:8080/",
          "height": 197
        }
      },
      "cell_type": "code",
      "source": [
        "feature_names = ['id','radius_mean', 'perimeter_mean','area_mean', 'concavity_mean', 'concave points_mean', 'area_worst','perimeter_worst']\n",
        "cancer = data[feature_names]\n",
        "cancer.head()"
      ],
      "execution_count": 0,
      "outputs": [
        {
          "output_type": "execute_result",
          "data": {
            "text/html": [
              "<div>\n",
              "<style scoped>\n",
              "    .dataframe tbody tr th:only-of-type {\n",
              "        vertical-align: middle;\n",
              "    }\n",
              "\n",
              "    .dataframe tbody tr th {\n",
              "        vertical-align: top;\n",
              "    }\n",
              "\n",
              "    .dataframe thead th {\n",
              "        text-align: right;\n",
              "    }\n",
              "</style>\n",
              "<table border=\"1\" class=\"dataframe\">\n",
              "  <thead>\n",
              "    <tr style=\"text-align: right;\">\n",
              "      <th></th>\n",
              "      <th>id</th>\n",
              "      <th>radius_mean</th>\n",
              "      <th>perimeter_mean</th>\n",
              "      <th>area_mean</th>\n",
              "      <th>concavity_mean</th>\n",
              "      <th>concave points_mean</th>\n",
              "      <th>area_worst</th>\n",
              "      <th>perimeter_worst</th>\n",
              "    </tr>\n",
              "  </thead>\n",
              "  <tbody>\n",
              "    <tr>\n",
              "      <th>0</th>\n",
              "      <td>842302</td>\n",
              "      <td>17.99</td>\n",
              "      <td>122.80</td>\n",
              "      <td>1001.0</td>\n",
              "      <td>0.3001</td>\n",
              "      <td>0.14710</td>\n",
              "      <td>2019.0</td>\n",
              "      <td>184.60</td>\n",
              "    </tr>\n",
              "    <tr>\n",
              "      <th>1</th>\n",
              "      <td>842517</td>\n",
              "      <td>20.57</td>\n",
              "      <td>132.90</td>\n",
              "      <td>1326.0</td>\n",
              "      <td>0.0869</td>\n",
              "      <td>0.07017</td>\n",
              "      <td>1956.0</td>\n",
              "      <td>158.80</td>\n",
              "    </tr>\n",
              "    <tr>\n",
              "      <th>2</th>\n",
              "      <td>84300903</td>\n",
              "      <td>19.69</td>\n",
              "      <td>130.00</td>\n",
              "      <td>1203.0</td>\n",
              "      <td>0.1974</td>\n",
              "      <td>0.12790</td>\n",
              "      <td>1709.0</td>\n",
              "      <td>152.50</td>\n",
              "    </tr>\n",
              "    <tr>\n",
              "      <th>3</th>\n",
              "      <td>84348301</td>\n",
              "      <td>11.42</td>\n",
              "      <td>77.58</td>\n",
              "      <td>386.1</td>\n",
              "      <td>0.2414</td>\n",
              "      <td>0.10520</td>\n",
              "      <td>567.7</td>\n",
              "      <td>98.87</td>\n",
              "    </tr>\n",
              "    <tr>\n",
              "      <th>4</th>\n",
              "      <td>84358402</td>\n",
              "      <td>20.29</td>\n",
              "      <td>135.10</td>\n",
              "      <td>1297.0</td>\n",
              "      <td>0.1980</td>\n",
              "      <td>0.10430</td>\n",
              "      <td>1575.0</td>\n",
              "      <td>152.20</td>\n",
              "    </tr>\n",
              "  </tbody>\n",
              "</table>\n",
              "</div>"
            ],
            "text/plain": [
              "         id  radius_mean  perimeter_mean  area_mean  concavity_mean  \\\n",
              "0    842302        17.99          122.80     1001.0          0.3001   \n",
              "1    842517        20.57          132.90     1326.0          0.0869   \n",
              "2  84300903        19.69          130.00     1203.0          0.1974   \n",
              "3  84348301        11.42           77.58      386.1          0.2414   \n",
              "4  84358402        20.29          135.10     1297.0          0.1980   \n",
              "\n",
              "   concave points_mean  area_worst  perimeter_worst  \n",
              "0              0.14710      2019.0           184.60  \n",
              "1              0.07017      1956.0           158.80  \n",
              "2              0.12790      1709.0           152.50  \n",
              "3              0.10520       567.7            98.87  \n",
              "4              0.10430      1575.0           152.20  "
            ]
          },
          "metadata": {
            "tags": []
          },
          "execution_count": 6
        }
      ]
    },
    {
      "metadata": {
        "id": "28HcH-93Akd8",
        "colab_type": "text"
      },
      "cell_type": "markdown",
      "source": [
        "---"
      ]
    },
    {
      "metadata": {
        "id": "YAPU9SRmBuff",
        "colab_type": "text"
      },
      "cell_type": "markdown",
      "source": [
        "Data pre-proceesing"
      ]
    },
    {
      "metadata": {
        "id": "2GBFeMnNB4eP",
        "colab_type": "code",
        "colab": {}
      },
      "cell_type": "code",
      "source": [
        "cancer = cancer.set_index('id') # setting the id as index for the data frame"
      ],
      "execution_count": 0,
      "outputs": []
    },
    {
      "metadata": {
        "id": "lsJL7g0HB8Hg",
        "colab_type": "code",
        "colab": {}
      },
      "cell_type": "code",
      "source": [
        "#malignant = 1 \n",
        "#benign = 0\n",
        "data.diagnosis.replace(to_replace=dict(B=0, M=1), inplace = True)"
      ],
      "execution_count": 0,
      "outputs": []
    },
    {
      "metadata": {
        "id": "iXoYlTlnB_wT",
        "colab_type": "code",
        "outputId": "97fce3a7-20bc-4b86-f2d1-dbac414102af",
        "colab": {
          "base_uri": "https://localhost:8080/",
          "height": 87
        }
      },
      "cell_type": "code",
      "source": [
        "print(data.groupby('diagnosis').size())"
      ],
      "execution_count": 0,
      "outputs": [
        {
          "output_type": "stream",
          "text": [
            "diagnosis\n",
            "0    357\n",
            "1    212\n",
            "dtype: int64\n"
          ],
          "name": "stdout"
        }
      ]
    },
    {
      "metadata": {
        "id": "XvqZ-z9Uz-Qf",
        "colab_type": "text"
      },
      "cell_type": "markdown",
      "source": [
        "**Obervation**:\n",
        "357 cases are observed as benign cases of cancer and 212 cases are observed as malignant cancer."
      ]
    },
    {
      "metadata": {
        "id": "qbjDIfXbCgcZ",
        "colab_type": "code",
        "colab": {}
      },
      "cell_type": "code",
      "source": [
        "# train-test data split\n",
        "x_train, x_test, y_train, y_test = train_test_split(cancer, data.diagnosis, test_size = 0.20, random_state = 0) #random =0-42-21 for resuability"
      ],
      "execution_count": 0,
      "outputs": []
    },
    {
      "metadata": {
        "id": "eJhqG5wWC_cr",
        "colab_type": "code",
        "outputId": "66a3dfbe-89c8-446f-d6e6-b2dba4d5f1a3",
        "colab": {
          "base_uri": "https://localhost:8080/",
          "height": 52
        }
      },
      "cell_type": "code",
      "source": [
        "svm = SVC()\n",
        "svm.fit(x_train, y_train) # fitting the model on train data set\n",
        "\n",
        "#checking the accuracy both on train and test\n",
        "print(\"Accuracy on the training subset {:.3f}\".format(svm.score(x_train, y_train))) # 100 : signifies we are over fitting the data\n",
        "print(\"Accuracy on the test subset {:.3f}\".format(svm.score(x_test, y_test)))"
      ],
      "execution_count": 0,
      "outputs": [
        {
          "output_type": "stream",
          "text": [
            "Accuracy on the training subset 1.000\n",
            "Accuracy on the test subset 0.588\n"
          ],
          "name": "stdout"
        }
      ]
    },
    {
      "metadata": {
        "id": "zmeXbO-rDXhL",
        "colab_type": "code",
        "outputId": "74258cdc-2c5d-4007-a246-693b6d4c16d3",
        "colab": {
          "base_uri": "https://localhost:8080/",
          "height": 383
        }
      },
      "cell_type": "code",
      "source": [
        "plt.plot(x_train.min(axis=0), 'o', label='Min')\n",
        "plt.plot(x_train.max(axis=0), 'v', label='Max')\n",
        "plt.xticks(rotation = 90)\n",
        "plt.xlabel('Feature Index')\n",
        "plt.ylabel('Feature Magnitude in Log Scale')\n",
        "plt.yscale('log')\n",
        "plt.legend(loc='upper right')\n",
        "\n",
        "'''\n",
        "large diff between the max and min value of each feature. A diff in order of mangnitude.\n",
        "'''"
      ],
      "execution_count": 0,
      "outputs": [
        {
          "output_type": "execute_result",
          "data": {
            "text/plain": [
              "'\\nlarge diff between the max and min value of each feature. A diff in order of mangnitude.\\n'"
            ]
          },
          "metadata": {
            "tags": []
          },
          "execution_count": 12
        },
        {
          "output_type": "display_data",
          "data": {
            "image/png": "[encoded data removed]",
            "text/plain": [
              "<matplotlib.figure.Figure at 0x7fdae93be668>"
            ]
          },
          "metadata": {
            "tags": []
          }
        }
      ]
    },
    {
      "metadata": {
        "id": "CbRJhIcoDxNC",
        "colab_type": "code",
        "colab": {}
      },
      "cell_type": "code",
      "source": [
        "#data scaling\n",
        "from sklearn.preprocessing import StandardScaler\n",
        "scaler = StandardScaler().fit(x_train)\n",
        "rescaledX = scaler.transform(x_train)\n",
        "X_test_scaled = scaler.transform(x_test)"
      ],
      "execution_count": 0,
      "outputs": []
    },
    {
      "metadata": {
        "id": "yemO0d-LEhkY",
        "colab_type": "code",
        "outputId": "80142c8f-5cbd-44f8-f16d-585f291900e1",
        "colab": {
          "base_uri": "https://localhost:8080/",
          "height": 297
        }
      },
      "cell_type": "code",
      "source": [
        "plt.plot(rescaledX.min(axis=0), 'o', label='Min')\n",
        "plt.plot(rescaledX.max(axis=0), 'v', label='Max')\n",
        "plt.xlabel('Feature Index')\n",
        "plt.ylabel('Feature Magnitude')\n",
        "plt.legend(loc='upper right')\n",
        "\n",
        "#not much of a large difference between the min and max values"
      ],
      "execution_count": 0,
      "outputs": [
        {
          "output_type": "execute_result",
          "data": {
            "text/plain": [
              "<matplotlib.legend.Legend at 0x7fdabe1c2240>"
            ]
          },
          "metadata": {
            "tags": []
          },
          "execution_count": 14
        },
        {
          "output_type": "display_data",
          "data": {
            "image/png": "[encoded data removed]",
            "text/plain": [
              "<matplotlib.figure.Figure at 0x7fdabfb035c0>"
            ]
          },
          "metadata": {
            "tags": []
          }
        }
      ]
    },
    {
      "metadata": {
        "id": "x6KEkgdEEtIS",
        "colab_type": "code",
        "outputId": "1da704ea-45d3-4f52-90f5-e5d0c8110e86",
        "colab": {
          "base_uri": "https://localhost:8080/",
          "height": 52
        }
      },
      "cell_type": "code",
      "source": [
        "svm2 = SVC(C = 10)\n",
        "svm2.probability = True\n",
        "svm2.fit(rescaledX, y_train)\n",
        "print(\"Accuracy on the training subset {:.3f}\".format(svm2.score(rescaledX, y_train)))\n",
        "print(\"Accuracy on the testing subset {:.3f}\".format(svm2.score(X_test_scaled, y_test)))"
      ],
      "execution_count": 0,
      "outputs": [
        {
          "output_type": "stream",
          "text": [
            "Accuracy on the training subset 0.967\n",
            "Accuracy on the testing subset 0.956\n"
          ],
          "name": "stdout"
        }
      ]
    },
    {
      "metadata": {
        "id": "p8DO79tTFa8G",
        "colab_type": "code",
        "outputId": "0aa55273-c871-4cdc-8b48-a8fc30164473",
        "colab": {
          "base_uri": "https://localhost:8080/",
          "height": 372
        }
      },
      "cell_type": "code",
      "source": [
        "#calculated probability for both class[0,1]\n",
        "print('Predicted probabilities for the samples (malignant and benign):\\n\\n{}\\n\\n'.format(svm2.predict_proba(X_test_scaled[:10])))\n",
        "\n",
        "# 1 malignant 0 benign\n",
        "svm2.predict(X_test_scaled)"
      ],
      "execution_count": 0,
      "outputs": [
        {
          "output_type": "stream",
          "text": [
            "Predicted probabilities for the samples (malignant and benign):\n",
            "\n",
            "[[6.69587195e-06 9.99993304e-01]\n",
            " [9.87611685e-01 1.23883146e-02]\n",
            " [9.90469089e-01 9.53091122e-03]\n",
            " [9.31820256e-01 6.81797437e-02]\n",
            " [9.95064269e-01 4.93573051e-03]\n",
            " [9.83211984e-01 1.67880156e-02]\n",
            " [9.91264347e-01 8.73565306e-03]\n",
            " [9.75260278e-01 2.47397218e-02]\n",
            " [9.14720714e-01 8.52792863e-02]\n",
            " [9.83227419e-01 1.67725814e-02]]\n",
            "\n",
            "\n"
          ],
          "name": "stdout"
        },
        {
          "output_type": "execute_result",
          "data": {
            "text/plain": [
              "array([1, 0, 0, 0, 0, 0, 0, 0, 0, 0, 1, 0, 0, 0, 0, 1, 0, 1, 1, 1, 1, 1,\n",
              "       0, 0, 1, 0, 0, 1, 0, 1, 0, 1, 0, 1, 0, 1, 0, 1, 0, 1, 0, 0, 1, 0,\n",
              "       1, 1, 0, 0, 0, 1, 1, 1, 1, 0, 0, 0, 0, 0, 0, 1, 1, 1, 0, 0, 1, 0,\n",
              "       1, 1, 1, 0, 0, 1, 0, 0, 1, 0, 0, 0, 0, 0, 1, 1, 1, 0, 1, 0, 0, 0,\n",
              "       1, 1, 0, 1, 0, 1, 0, 0, 1, 0, 0, 0, 0, 0, 0, 0, 1, 0, 1, 0, 0, 1,\n",
              "       0, 1, 1, 0])"
            ]
          },
          "metadata": {
            "tags": []
          },
          "execution_count": 16
        }
      ]
    },
    {
      "metadata": {
        "id": "0chaKDFCFd87",
        "colab_type": "code",
        "outputId": "cc1cf362-7e1e-4768-ded6-3de0c174ae57",
        "colab": {
          "base_uri": "https://localhost:8080/",
          "height": 194
        }
      },
      "cell_type": "code",
      "source": [
        "from sklearn.metrics import accuracy_score\n",
        "from sklearn.metrics import classification_report\n",
        "# accuracy of the model\n",
        "print(\"Accuracy score %f\" % accuracy_score(y_test, svm2.predict(X_test_scaled)))\n",
        "\n",
        "\n",
        "print(classification_report(y_test, svm2.predict(X_test_scaled)))"
      ],
      "execution_count": 0,
      "outputs": [
        {
          "output_type": "stream",
          "text": [
            "Accuracy score 0.956140\n",
            "              precision    recall  f1-score   support\n",
            "\n",
            "           0       0.96      0.97      0.96        67\n",
            "           1       0.96      0.94      0.95        47\n",
            "\n",
            "   micro avg       0.96      0.96      0.96       114\n",
            "   macro avg       0.96      0.95      0.95       114\n",
            "weighted avg       0.96      0.96      0.96       114\n",
            "\n"
          ],
          "name": "stdout"
        }
      ]
    },
    {
      "metadata": {
        "id": "LvncopcuFjlv",
        "colab_type": "code",
        "outputId": "bf3040c7-fd1a-4f1a-f139-2821fea7fb80",
        "colab": {
          "base_uri": "https://localhost:8080/",
          "height": 278
        }
      },
      "cell_type": "code",
      "source": [
        "from sklearn.metrics import confusion_matrix\n",
        "from mlxtend.plotting import plot_confusion_matrix\n",
        "\n",
        "#to check cases of miss-classification\n",
        "\n",
        "binary = confusion_matrix(y_test, svm2.predict(X_test_scaled))\n",
        "\n",
        "#in table format\n",
        "pd.crosstab(y_test, svm2.predict(X_test_scaled), rownames=['True'], colnames=['Predicted'], margins=True)\n",
        "\n",
        "fig , ax = plot_confusion_matrix(conf_mat=binary,\n",
        "                                show_absolute=True,\n",
        "                                show_normed=True,\n",
        "                                colorbar=True)\n",
        "plt.show()"
      ],
      "execution_count": 0,
      "outputs": [
        {
          "output_type": "display_data",
          "data": {
            "image/png": "[encoded data removed]",
            "text/plain": [
              "<matplotlib.figure.Figure at 0x7fdabe1dc860>"
            ]
          },
          "metadata": {
            "tags": []
          }
        }
      ]
    },
    {
      "metadata": {
        "id": "0wYA4EwpFo24",
        "colab_type": "code",
        "outputId": "fc39aef7-4a56-4b44-82cc-6e90934c2225",
        "colab": {
          "base_uri": "https://localhost:8080/",
          "height": 34
        }
      },
      "cell_type": "code",
      "source": [
        "#prediction for a new case\n",
        "Xnew = [['18.80','112.70','1001.0','0.2546','0.10607','2018.0','99.97']]\n",
        "Ynew = svm2.predict(Xnew)\n",
        "if Ynew[0]:\n",
        "  print(\"The observation is classified as malignant cancer.\")\n",
        "else:\n",
        "  print(\"The observation is classified as benign cancer.\")"
      ],
      "execution_count": 0,
      "outputs": [
        {
          "output_type": "stream",
          "text": [
            "The observation is classified as malignant cancer.\n"
          ],
          "name": "stdout"
        }
      ]
    }
  ]
}